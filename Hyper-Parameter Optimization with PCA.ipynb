{
 "cells": [
  {
   "cell_type": "markdown",
   "metadata": {},
   "source": [
    "## Hyper-Parameter Optimization with PCA\n",
    "\n",
    "1) Combine PCA with data scaling\n",
    "2) Compute and visualize PC components\n",
    "3) Select the number of PCs with K-fold cross validation\n",
    "4) Implement the multi-stage classifier pipeline in sklearn\n",
    "5) Perform automatic parameter search using GridSearchCV in combination with a pipeline"
   ]
  },
  {
   "cell_type": "code",
   "execution_count": 1,
   "metadata": {},
   "outputs": [],
   "source": [
    "import numpy as np\n",
    "import matplotlib\n",
    "import matplotlib.pyplot as plt\n",
    "from sklearn.datasets import load_wine\n",
    "from sklearn.model_selection import KFold\n",
    "from sklearn.decomposition import PCA"
   ]
  },
  {
   "cell_type": "code",
   "execution_count": 4,
   "metadata": {},
   "outputs": [
    {
     "name": "stdout",
     "output_type": "stream",
     "text": [
      "Features names = \n",
      "['alcohol', 'malic_acid', 'ash', 'alcalinity_of_ash', 'magnesium', 'total_phenols', 'flavanoids', 'nonflavanoid_phenols', 'proanthocyanins', 'color_intensity', 'hue', 'od280/od315_of_diluted_wines', 'proline']\n",
      "\n",
      "Target names = \n",
      "['class_0' 'class_1' 'class_2']\n"
     ]
    }
   ],
   "source": [
    "#download the data\n",
    "data = load_wine()\n",
    "\n",
    "feat_names = data.feature_names \n",
    "tar_names = data.target_names\n",
    "print(f'Features names = \\n{feat_names}\\n')\n",
    "print(f'Target names = \\n{tar_names}')"
   ]
  },
  {
   "cell_type": "code",
   "execution_count": 12,
   "metadata": {},
   "outputs": [
    {
     "name": "stdout",
     "output_type": "stream",
     "text": [
      "Number of samples = 178 \n",
      "Number of features = 13\n",
      "Number of classes = 3\n"
     ]
    }
   ],
   "source": [
    "# the number of samples and number of features and number of classes\n",
    "X = data.data\n",
    "y = data.target\n",
    "\n",
    "print(f'Number of samples = {X.shape[0]} \\nNumber of features = {len(feat_names)}')\n",
    "print(f'Number of classes = {len(tar_names)}')"
   ]
  },
  {
   "cell_type": "markdown",
   "metadata": {},
   "source": [
    "#### Perform PCA for Visualization\n",
    "\n",
    "Scale the data matrix to remove the mean and normalize the variance of the different components.  \n",
    "-Create a StandardScaling object scaling\n",
    "-Fit the scaling with the entire data X \n",
    "-Transform the data and let Xs be the scaled data."
   ]
  },
  {
   "cell_type": "code",
   "execution_count": 23,
   "metadata": {},
   "outputs": [],
   "source": [
    "from sklearn.preprocessing import StandardScaler\n",
    "\n",
    "scaling = StandardScaler()\n",
    "scaling.fit(X)\n",
    "Xs = scaling.transform(X)"
   ]
  },
  {
   "cell_type": "code",
   "execution_count": 116,
   "metadata": {},
   "outputs": [],
   "source": [
    "#Fit a PCA on the scaled data matrix Xs\n",
    "ncomp = 2\n",
    "pca = PCA(n_components=ncomp, svd_solver='randomized', whiten=True)\n",
    "pca.fit(Xs)\n",
    "Z = pca.transform(Xs)\n",
    "\n",
    "# In the transformed basis, each data sample is represented by a two dimensional vector, Z[i,0], Z[i,1]"
   ]
  },
  {
   "cell_type": "code",
   "execution_count": 138,
   "metadata": {},
   "outputs": [
    {
     "data": {
      "image/png": "[encoded data removed]",
      "text/plain": [
       "<Figure size 432x288 with 1 Axes>"
      ]
     },
     "metadata": {
      "needs_background": "light"
     },
     "output_type": "display_data"
    }
   ],
   "source": [
    "for idx in range (len(y)):\n",
    "    if y[idx]==0:\n",
    "        plt.scatter(Z[idx,0], Z[idx,1],color='blue')\n",
    "    if y[idx]==1:\n",
    "        plt.scatter(Z[idx,0], Z[idx,1],color='red')\n",
    "    if y[idx]==2:\n",
    "        plt.scatter(Z[idx,0], Z[idx,1],color='green')\n",
    "\n",
    "\n",
    "plt.xlabel('PC 1 (%.2f%%)' % (pca.explained_variance_ratio_[0]*100))\n",
    "plt.ylabel('PC 2 (%.2f%%)' % (pca.explained_variance_ratio_[1]*100))\n",
    "plt.show()"
   ]
  },
  {
   "cell_type": "markdown",
   "metadata": {},
   "source": [
    "Refit the scaled data Xs using n_components=nfeatures where nfeatures is the number of features (maximum number of PCs). Get the singular values from pca.singular_values_ and plot the portion of variation as a function of the number of PCs. The PoV for using n PCs is:\n",
    "\n",
    "PoV[n]  = \\sum_{i=0}^{n-1}  s[i]**2 / \\sum_{i=0}^{d-1}  s[i]**2\n",
    "\n",
    "where s[i] is the i-th singular value and d is the number of features. You should see that the 4 PCs contains more than 70% of the variance."
   ]
  },
  {
   "cell_type": "code",
   "execution_count": 78,
   "metadata": {},
   "outputs": [
    {
     "name": "stdout",
     "output_type": "stream",
     "text": [
      "At PC=4, PoV reaches 73.599%\n"
     ]
    },
    {
     "data": {
      "image/png": "[encoded data removed]",
      "text/plain": [
       "<Figure size 432x288 with 1 Axes>"
      ]
     },
     "metadata": {
      "needs_background": "light"
     },
     "output_type": "display_data"
    }
   ],
   "source": [
    "ncomp = len(feat_names)\n",
    "pca = PCA(n_components=ncomp, svd_solver='randomized', whiten=True)\n",
    "pca.fit(Xs)\n",
    "\n",
    "s_vals = pca.singular_values_\n",
    "s=s_vals[0:ncomp]\n",
    "S = np.diag(s)\n",
    "lam = S**2\n",
    "\n",
    "#PoV = np.cumsum(lam)/np.sum(lam)\n",
    "PoV = np.cumsum(pca.explained_variance_ratio_)\n",
    "\n",
    "plt.plot(range(0,ncomp), PoV)\n",
    "plt.xlabel('Number of Components')\n",
    "plt.ylabel('Portion of Variation Value')\n",
    "\n",
    "print(f'At PC=4, PoV reaches {np.around(PoV[3]*100, 3)}%')"
   ]
  },
  {
   "cell_type": "markdown",
   "metadata": {},
   "source": [
    "#### Using PCA with Classification\n",
    "\n",
    "Use data scaling and PCA as a pre-processing step for logistic classification. The number of PCs to use can be found with cross-validation"
   ]
  },
  {
   "cell_type": "code",
   "execution_count": 166,
   "metadata": {},
   "outputs": [
    {
     "name": "stdout",
     "output_type": "stream",
     "text": [
      "Number of componenets = 0, kfold = 0, accuracy = 0.9166666666666666\n",
      "Number of componenets = 0, kfold = 1, accuracy = 0.9444444444444444\n",
      "Number of componenets = 0, kfold = 2, accuracy = 0.8888888888888888\n",
      "Number of componenets = 0, kfold = 3, accuracy = 0.9142857142857143\n",
      "Number of componenets = 0, kfold = 4, accuracy = 0.9714285714285714\n",
      "Number of componenets = 1, kfold = 0, accuracy = 0.8611111111111112\n",
      "Number of componenets = 1, kfold = 1, accuracy = 0.9444444444444444\n",
      "Number of componenets = 1, kfold = 2, accuracy = 0.8888888888888888\n",
      "Number of componenets = 1, kfold = 3, accuracy = 0.9428571428571428\n",
      "Number of componenets = 1, kfold = 4, accuracy = 0.9714285714285714\n",
      "Number of componenets = 2, kfold = 0, accuracy = 0.8611111111111112\n",
      "Number of componenets = 2, kfold = 1, accuracy = 0.9722222222222222\n",
      "Number of componenets = 2, kfold = 2, accuracy = 0.8888888888888888\n",
      "Number of componenets = 2, kfold = 3, accuracy = 0.9714285714285714\n",
      "Number of componenets = 2, kfold = 4, accuracy = 0.9714285714285714\n",
      "Number of componenets = 3, kfold = 0, accuracy = 0.8611111111111112\n",
      "Number of componenets = 3, kfold = 1, accuracy = 0.8888888888888888\n",
      "Number of componenets = 3, kfold = 2, accuracy = 0.9166666666666666\n",
      "Number of componenets = 3, kfold = 3, accuracy = 0.9714285714285714\n",
      "Number of componenets = 3, kfold = 4, accuracy = 0.9428571428571428\n",
      "Number of componenets = 4, kfold = 0, accuracy = 0.9444444444444444\n",
      "Number of componenets = 4, kfold = 1, accuracy = 0.9166666666666666\n",
      "Number of componenets = 4, kfold = 2, accuracy = 0.9166666666666666\n",
      "Number of componenets = 4, kfold = 3, accuracy = 0.9428571428571428\n",
      "Number of componenets = 4, kfold = 4, accuracy = 0.9428571428571428\n",
      "Number of componenets = 5, kfold = 0, accuracy = 0.9722222222222222\n",
      "Number of componenets = 5, kfold = 1, accuracy = 0.9444444444444444\n",
      "Number of componenets = 5, kfold = 2, accuracy = 0.9166666666666666\n",
      "Number of componenets = 5, kfold = 3, accuracy = 0.9428571428571428\n",
      "Number of componenets = 5, kfold = 4, accuracy = 0.9714285714285714\n",
      "Number of componenets = 6, kfold = 0, accuracy = 0.9722222222222222\n",
      "Number of componenets = 6, kfold = 1, accuracy = 0.9444444444444444\n",
      "Number of componenets = 6, kfold = 2, accuracy = 0.9166666666666666\n",
      "Number of componenets = 6, kfold = 3, accuracy = 0.9428571428571428\n",
      "Number of componenets = 6, kfold = 4, accuracy = 0.9714285714285714\n",
      "Number of componenets = 7, kfold = 0, accuracy = 0.9444444444444444\n",
      "Number of componenets = 7, kfold = 1, accuracy = 0.9166666666666666\n",
      "Number of componenets = 7, kfold = 2, accuracy = 0.9444444444444444\n",
      "Number of componenets = 7, kfold = 3, accuracy = 0.9428571428571428\n",
      "Number of componenets = 7, kfold = 4, accuracy = 1.0\n",
      "Number of componenets = 8, kfold = 0, accuracy = 0.9444444444444444\n",
      "Number of componenets = 8, kfold = 1, accuracy = 0.8888888888888888\n",
      "Number of componenets = 8, kfold = 2, accuracy = 0.9166666666666666\n",
      "Number of componenets = 8, kfold = 3, accuracy = 0.9714285714285714\n",
      "Number of componenets = 8, kfold = 4, accuracy = 1.0\n",
      "Number of componenets = 9, kfold = 0, accuracy = 0.9722222222222222\n",
      "Number of componenets = 9, kfold = 1, accuracy = 0.9166666666666666\n",
      "Number of componenets = 9, kfold = 2, accuracy = 0.9166666666666666\n",
      "Number of componenets = 9, kfold = 3, accuracy = 0.9714285714285714\n",
      "Number of componenets = 9, kfold = 4, accuracy = 1.0\n"
     ]
    }
   ],
   "source": [
    "from sklearn.preprocessing import StandardScaler\n",
    "from sklearn.linear_model import LogisticRegression\n",
    "from sklearn.model_selection import train_test_split\n",
    "nfold = 5\n",
    "\n",
    "# Create a K-fold object\n",
    "kf = KFold(n_splits=nfold)\n",
    "kf.get_n_splits(X)\n",
    "\n",
    "# Number of PCs to try\n",
    "ncomp_test = np.arange(2,12)\n",
    "num_nc = len(ncomp_test)\n",
    "\n",
    "# Accuracy:  acc[icomp,ifold]  is test accuracy when using `ncomp = ncomp_test[icomp]` in fold `ifold`.\n",
    "acc = np.zeros((num_nc,nfold))\n",
    "\n",
    "# Loop over number of components to test\n",
    "for icomp, ncomp in enumerate(ncomp_test):\n",
    "    \n",
    "    # Look over the folds\n",
    "    for ifold, I in enumerate(kf.split(X)):\n",
    "        Itr, Its = I\n",
    "\n",
    "        # Split data into training \n",
    "        Xtr, Xts, ytr, yts = X[Itr], X[Its], y[Itr], y[Its]\n",
    "\n",
    "        # Create a scaling object and fit the scaling on the training data\n",
    "        scaling = StandardScaler()\n",
    "        scaling.fit(Xtr)\n",
    "        Xtr_s = scaling.transform(Xtr)\n",
    "\n",
    "        # Fit the PCA on the scaled training data\n",
    "        pca = PCA(n_components=ncomp, svd_solver='randomized', whiten=True)\n",
    "        pca.fit(Xtr_s)\n",
    "\n",
    "        # Train a classifier on the transformed training data\n",
    "        Ztr = pca.transform(Xtr_s)\n",
    "        # Use a logistic regression classifier\n",
    "        logreg = LogisticRegression(multi_class='auto', solver='lbfgs')\n",
    "        logreg.fit(Ztr, ytr)\n",
    "        # Transform the test data through data scaler and PCA\n",
    "        Xts_s = scaling.transform(Xts)\n",
    "        Zts = pca.transform(Xts_s)\n",
    "        \n",
    "        # Predict the labels the test data\n",
    "        yhat = logreg.predict(Zts)\n",
    "        # TODO:  Measure the accuracy \n",
    "        acc[icomp, ifold] = np.mean(yhat == yts)\n",
    "        print(f'Number of componenets = {icomp}, kfold = {ifold}, accuracy = {acc[icomp, ifold]}')"
   ]
  },
  {
   "cell_type": "markdown",
   "metadata": {},
   "source": [
    "Find the optimal number of PCs to use according to the normal rule and one SE rule"
   ]
  },
  {
   "cell_type": "code",
   "execution_count": 206,
   "metadata": {},
   "outputs": [
    {
     "name": "stdout",
     "output_type": "stream",
     "text": [
      "Optimal order with the normal rule = 11\n",
      "Optimal order with one SE rule = 2\n"
     ]
    },
    {
     "data": {
      "image/png": "[encoded data removed]",
      "text/plain": [
       "<Figure size 432x288 with 1 Axes>"
      ]
     },
     "metadata": {
      "needs_background": "light"
     },
     "output_type": "display_data"
    }
   ],
   "source": [
    "from scipy import stats\n",
    "\n",
    "acc_mean = np.mean(acc, axis = 1)\n",
    "acc_se = np.std(acc, axis=1)\n",
    "\n",
    "plt.errorbar(ncomp_test, acc_mean, yerr = acc_se)\n",
    "plt.xlabel('Number of Components')\n",
    "plt.ylabel('Mean Accuracy')\n",
    "plt.title('Mean accuracy with accuracy standard error bars as a function of the number of components\\n')\n",
    "\n",
    "#Optimal order with the normal rule\n",
    "idx_n = np.argmax(acc_mean)\n",
    "print(f'Optimal order with the normal rule = {ncomp_test[idx_n]}')\n",
    "\n",
    "#Optimal order with one SE rule\n",
    "acc_tar = acc_mean[idx_n]-acc_se[idx_n]\n",
    "idx_se = np.where(acc_mean>acc_tar)[0][0]\n",
    "\n",
    "print(f'Optimal order with one SE rule = {ncomp_test[idx_se]}')"
   ]
  },
  {
   "cell_type": "markdown",
   "metadata": {},
   "source": [
    "#### Hyper-Parameter Optimization with GridCV\n",
    "\n",
    "Support vector classifier with a radial basis function. \n",
    "\n",
    "An estimator pipeline i followed by an estimator that will operate on the transformed data will be used:\n",
    "*Create a StandardScaler() object called scaler for the first transformation\n",
    "*Create a PCA() object called pca for the second transformation\n",
    "*Create a SVC() object called svc for the final SVM classifier. Set the parameter kernel='rbf'.\n",
    "\n",
    "pipe = Pipeline(steps=[('scaler', scaler), ('pca', pca), ('svc', svc)])"
   ]
  },
  {
   "cell_type": "code",
   "execution_count": 105,
   "metadata": {},
   "outputs": [],
   "source": [
    "from sklearn.pipeline import Pipeline\n",
    "from sklearn.model_selection import GridSearchCV\n",
    "from sklearn.svm import SVC\n",
    "\n",
    "scaler = StandardScaler()\n",
    "pca = PCA()\n",
    "svc = SVC(kernel='rbf')\n",
    "pipe = Pipeline(steps=[('scaler', scaler), ('pca', pca), ('svc', svc)])"
   ]
  },
  {
   "cell_type": "raw",
   "metadata": {},
   "source": [
    "We next define all the parameters that we want to search over. Define the following arrays:\n",
    "\n",
    "*ncomp_test: values from 3 to 10 representing number of PCs to test\n",
    "*C_test: values of C in the SVC to test. Use 10^{-2}, 10^{-1}, ... ,10^{3}\n",
    "*gam_test: values of gamma in the SVC to test. Use 10^{-3}, 10^{-2}, ... ,10^{1}"
   ]
  },
  {
   "cell_type": "code",
   "execution_count": 106,
   "metadata": {},
   "outputs": [],
   "source": [
    "ncomp_test = np.arange(3,10)\n",
    "c_test = np.logspace(-2,3,6)\n",
    "gam_test = np.logspace(-3,1,5)"
   ]
  },
  {
   "cell_type": "raw",
   "metadata": {},
   "source": [
    "Next, we create a dictionary params of the form:\n",
    "\n",
    "params =  {'pca__n_components': ncomp_test, 'svc__C' : c_test, ...}\n",
    "\n",
    "Each key in the dictionary is the of the form estimator__param and the value is the values to be tested."
   ]
  },
  {
   "cell_type": "code",
   "execution_count": 139,
   "metadata": {},
   "outputs": [],
   "source": [
    "params = {'pca__n_components': ncomp_test, 'svc__C' : c_test, 'svc__gamma' : gam_test}"
   ]
  },
  {
   "cell_type": "raw",
   "metadata": {},
   "source": [
    "Finally, an object estimator = GridSearchCV(...) from  pipe and params. Set cv=5, train_score=True and iid=False. Fit the estimator from the data X,y. Then the estimator will perform the cross-validation over all the parameters. This may take a minute since we are search over so many parameters."
   ]
  },
  {
   "cell_type": "code",
   "execution_count": 140,
   "metadata": {},
   "outputs": [
    {
     "data": {
      "text/plain": [
       "GridSearchCV(cv=5, error_score='raise-deprecating',\n",
       "       estimator=Pipeline(memory=None,\n",
       "     steps=[('scaler', StandardScaler(copy=True, with_mean=True, with_std=True)), ('pca', PCA(copy=True, iterated_power='auto', n_components=None, random_state=None,\n",
       "  svd_solver='auto', tol=0.0, whiten=False)), ('svc', SVC(C=1.0, cache_size=200, class_weight=None, coef0=0.0,\n",
       "  decision_function_shape='ovr', degree=3, gamma='auto_deprecated',\n",
       "  kernel='rbf', max_iter=-1, probability=False, random_state=None,\n",
       "  shrinking=True, tol=0.001, verbose=False))]),\n",
       "       fit_params=None, iid=False, n_jobs=None,\n",
       "       param_grid={'pca__n_components': array([ 2,  3,  4,  5,  6,  7,  8,  9, 10, 11]), 'svc__C': array([1.e-02, 1.e-01, 1.e+00, 1.e+01, 1.e+02, 1.e+03]), 'svc__gamma': array([1.e-03, 1.e-02, 1.e-01, 1.e+00, 1.e+01])},\n",
       "       pre_dispatch='2*n_jobs', refit=True, return_train_score=True,\n",
       "       scoring=None, verbose=0)"
      ]
     },
     "execution_count": 140,
     "metadata": {},
     "output_type": "execute_result"
    }
   ],
   "source": [
    "estimator = GridSearchCV(estimator=pipe, param_grid=params, cv=5, return_train_score=True, iid=False)\n",
    "estimator.fit(X,y)"
   ]
  },
  {
   "cell_type": "raw",
   "metadata": {},
   "source": [
    "Print the best test score and best parameters. They are fields in estimator. If you did it correctly, it should be a little higher than the logistic regression (about 0.97 to 0.98 accuracy)."
   ]
  },
  {
   "cell_type": "code",
   "execution_count": 143,
   "metadata": {},
   "outputs": [
    {
     "name": "stdout",
     "output_type": "stream",
     "text": [
      "Estimator best test score =  0.983\n",
      "Estimator best parameters:\n",
      "{'pca__n_components': 11, 'svc__C': 10.0, 'svc__gamma': 0.01}\n"
     ]
    }
   ],
   "source": [
    "print(f'Estimator best test score =  {np.around(estimator.best_score_,3)}')\n",
    "print(f'Estimator best parameters:\\n{estimator.best_params_}')"
   ]
  },
  {
   "cell_type": "raw",
   "metadata": {},
   "source": [
    "Finally, you can get the test score for all the parameter choices from\n",
    "\n",
    "test_score = estimator.cv_results_['mean_test_score']\n",
    "\n",
    "Use the imshow command to plot the mean test score over gamma and C for the value n_components=5."
   ]
  },
  {
   "cell_type": "code",
   "execution_count": 208,
   "metadata": {},
   "outputs": [
    {
     "name": "stdout",
     "output_type": "stream",
     "text": [
      "[10, 6, 5]\n"
     ]
    },
    {
     "data": {
      "text/plain": [
       "Text(0.5, 1.0, 'Mean test score over gamma and C for the value 5 components')"
      ]
     },
     "execution_count": 208,
     "metadata": {},
     "output_type": "execute_result"
    },
    {
     "data": {
      "image/png": "[encoded data removed]",
      "text/plain": [
       "<Figure size 432x288 with 2 Axes>"
      ]
     },
     "metadata": {
      "needs_background": "light"
     },
     "output_type": "display_data"
    }
   ],
   "source": [
    "test_score = estimator.cv_results_['mean_test_score']\n",
    "test_score.shape\n",
    "\n",
    "n_nc = len(ncomp_test)\n",
    "n_c = len(c_test)\n",
    "n_gam = len(gam_test)\n",
    "\n",
    "print([n_nc,n_c,n_gam])\n",
    "\n",
    "test_score = test_score.reshape((n_nc,n_c,n_gam))\n",
    "test_score.shape\n",
    "\n",
    "\n",
    "# nc= nc_test[2]=5\n",
    "plt.imshow(test_score[2,:,:])\n",
    "plt.colorbar()\n",
    "plt.xlabel('SVC C Value')\n",
    "plt.ylabel('Gamma')\n",
    "plt.title('Mean test score over gamma and C for the value 5 components')"
   ]
  },
  {
   "cell_type": "code",
   "execution_count": null,
   "metadata": {},
   "outputs": [],
   "source": []
  }
 ],
 "metadata": {
  "kernelspec": {
   "display_name": "Python 3",
   "language": "python",
   "name": "python3"
  },
  "language_info": {
   "codemirror_mode": {
    "name": "ipython",
    "version": 3
   },
   "file_extension": ".py",
   "mimetype": "text/x-python",
   "name": "python",
   "nbconvert_exporter": "python",
   "pygments_lexer": "ipython3",
   "version": "3.8.5"
  }
 },
 "nbformat": 4,
 "nbformat_minor": 2
}
