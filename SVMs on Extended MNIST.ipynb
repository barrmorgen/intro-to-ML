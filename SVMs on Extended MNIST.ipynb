{
 "cells": [
  {
   "cell_type": "markdown",
   "metadata": {},
   "source": [
    "### SVMs on Extended MNIST\n",
    "\n",
    "Extend MNIST dataset by addinig a number of non-digit letters and see if the classifier can distinguish the digits from the non-digits. All non-digits will be lumped as a single 11-th class (a highly simplified version of 'detection' problem,as opposed to 'classification' problem). Detection is vital in OCR and related problems since the non useful characters must be rejected.\n",
    "\n",
    "In addition to the concepts in the demo, you will learn:\n",
    "* Combine multiple datasets\n",
    "* Select the SVM parameters ( C and gamma ) via cross-validation.\n",
    "* Use the GridSearchCV method to search for parameters with cross-validation\n",
    "\n",
    "Note: Download the data from NIST website"
   ]
  },
  {
   "cell_type": "code",
   "execution_count": 2,
   "metadata": {},
   "outputs": [],
   "source": [
    "import numpy as np\n",
    "import matplotlib.pyplot as plt\n",
    "%matplotlib inline\n",
    "from sklearn import linear_model, preprocessing"
   ]
  },
  {
   "cell_type": "markdown",
   "metadata": {},
   "source": [
    "Download the data from the EMNIST webpage (https://www.nist.gov/itl/iad/image-group/emnist-dataset) \n",
    "Extract two files:\n",
    "* emnist-digits.mat : This is a file of digits 0 to 9 , but with more examples per class\n",
    "* emnist-letters.mat : This is a file of letters a/A to z/Z . The lower and upper case letters are grouped into the same class"
   ]
  },
  {
   "cell_type": "code",
   "execution_count": 3,
   "metadata": {},
   "outputs": [],
   "source": [
    "# Extract the relevant fields from the MATLAB file\n",
    "import scipy.io\n",
    "\n",
    "def load_emnist(file_path='emnist-digits.mat'):\n",
    "    \"\"\"\n",
    "    Loads training and test data with ntr and nts training and test samples\n",
    "    The `file_path` is the location of the `eminst-balanced.mat`.\n",
    "    \"\"\"\n",
    "    # Load the MATLAB file\n",
    "    mat = scipy.io.loadmat(file_path)#,appendmat=True)\n",
    "    \n",
    "    # Get the training data\n",
    "    Xtr = mat['dataset'][0][0][0][0][0][0][:]\n",
    "    ntr = Xtr.shape[0]\n",
    "    ytr = mat['dataset'][0][0][0][0][0][1][:].reshape(ntr).astype(int)\n",
    "    \n",
    "    # Get the test data\n",
    "    Xts = mat['dataset'][0][0][1][0][0][0][:]\n",
    "    nts = Xts.shape[0]\n",
    "    yts = mat['dataset'][0][0][1][0][0][1][:].reshape(nts).astype(int)\n",
    "    \n",
    "    print(\"%d training samples, %d test samples loaded\" % (ntr, nts))\n",
    "    return [Xtr, Xts, ytr, yts]"
   ]
  },
  {
   "cell_type": "code",
   "execution_count": 5,
   "metadata": {},
   "outputs": [
    {
     "name": "stdout",
     "output_type": "stream",
     "text": [
      "240000 training samples, 40000 test samples loaded\n"
     ]
    }
   ],
   "source": [
    "# Load the digit data from emnist-digits.mat\n",
    "Xtr_dig, Xts_dig, ytr_dig, yts_dig =load_emnist(\"/Users/barrm/Documents/MATLAB/emnist-digits.mat\")"
   ]
  },
  {
   "cell_type": "code",
   "execution_count": 6,
   "metadata": {},
   "outputs": [
    {
     "name": "stdout",
     "output_type": "stream",
     "text": [
      "124800 training samples, 20800 test samples loaded\n"
     ]
    }
   ],
   "source": [
    "# Load the letters data from emnist-letters.mat\n",
    "Xtr_let, Xts_let, ytr_let, yts_let = load_emnist(\"/Users/barrm/Documents/MATLAB/emnist-letters.mat\")"
   ]
  },
  {
   "cell_type": "code",
   "execution_count": 8,
   "metadata": {},
   "outputs": [],
   "source": [
    "# plot function\n",
    "def plt_digit(x,y=None):\n",
    "\n",
    "    nrow = 28\n",
    "    ncol = 28\n",
    "    xsq = x.reshape((nrow,ncol))\n",
    "    plt.imshow(xsq.T, cmap='Greys_r')\n",
    "    plt.xticks([])\n",
    "    plt.yticks([])\n",
    "    if y != None:\n",
    "        plt.title('%d' % y)"
   ]
  },
  {
   "cell_type": "markdown",
   "metadata": {},
   "source": [
    "Plot 8 random samples from the digit training data."
   ]
  },
  {
   "cell_type": "code",
   "execution_count": 9,
   "metadata": {},
   "outputs": [
    {
     "data": {
      "image/png": "[encoded data removed]",
      "text/plain": [
       "<Figure size 432x288 with 8 Axes>"
      ]
     },
     "metadata": {},
     "output_type": "display_data"
    }
   ],
   "source": [
    "nsmp=8\n",
    "samples=Xtr_dig[np.random.choice(Xtr_dig.shape[0], nsmp, replace=False),:]\n",
    "for i in range(nsmp):\n",
    "    plt.subplot(1,nsmp,i+1)\n",
    "    plt_digit(samples[i,:])"
   ]
  },
  {
   "cell_type": "markdown",
   "metadata": {},
   "source": [
    "Plot 8 samples from the letters training data."
   ]
  },
  {
   "cell_type": "code",
   "execution_count": 11,
   "metadata": {},
   "outputs": [
    {
     "data": {
      "image/png": "[encoded data removed]",
      "text/plain": [
       "<Figure size 432x288 with 8 Axes>"
      ]
     },
     "metadata": {},
     "output_type": "display_data"
    }
   ],
   "source": [
    "nsmp=8\n",
    "samples=Xtr_let[np.random.choice(Xtr_let.shape[0], nsmp, replace=False),:]\n",
    "for i in range(nsmp):\n",
    "    plt.subplot(1,nsmp,i+1)\n",
    "    plt_digit(samples[i,:])"
   ]
  },
  {
   "cell_type": "markdown",
   "metadata": {},
   "source": [
    "#### Creating a Non-Digit Class\n",
    "\n",
    "* First remove all the letters corresponding to i/I , l/L and o/O  (these letters would get confused with the digits 0 and 1) \n",
    "* Create arrays Xtr_let_rem and ytr_let_rem from the data Xtr_let and ytr_let , where the samples i with ytr_let[i] == 9, 12 or 15 are removed. Create Xts_let_rem and yts_let_rem similarly"
   ]
  },
  {
   "cell_type": "code",
   "execution_count": 12,
   "metadata": {},
   "outputs": [],
   "source": [
    "remove_list = np.array([9,12,15])\n",
    "\n",
    "# Create arrays with labels 9, 12 and 15 removed\n",
    "tr_ind=np.isin(ytr_let, remove_list)\n",
    "find_tr=np.array(np.where(tr_ind==True))\n",
    "\n",
    "Xtr_let_rem, ytr_let_rem=np.delete(Xtr_let, find_tr, axis=0), np.delete(ytr_let,find_tr)\n",
    "ts_ind=np.isin(yts_let, remove_list)\n",
    "\n",
    "find_ts=np.array(np.where(ts_ind==True))\n",
    "Xts_let_rem, yts_let_rem=np.delete(Xts_let, find_ts, axis=0), np.delete(yts_let,find_ts)"
   ]
  },
  {
   "cell_type": "markdown",
   "metadata": {},
   "source": [
    "Create arrays Xtr1_dig and ytr1_dig by selecting 5000 random training digit samples from Xtr_dig and ytr_dig.\n",
    "Create arrays Xtr1_let and ytr1_let by selecting 1000 random training letter samples from Xtr_let_rem and\n",
    "ytr_let_rem . Similarly, create test arrays Xts1_dig,Xts1_let,yts1_dig,yts1_let with 5000 digits and 1000 letters."
   ]
  },
  {
   "cell_type": "code",
   "execution_count": 13,
   "metadata": {},
   "outputs": [],
   "source": [
    "# Number of training and test digits and letters\n",
    "ntr_dig = 5000\n",
    "ntr_let = 1000\n",
    "nts_dig = 5000\n",
    "nts_let = 1000\n",
    "\n",
    "dig_tr_indices=np.random.choice(Xtr_dig.shape[0], ntr_dig, replace=False)\n",
    "dig_ts_indices=np.random.choice(Xts_dig.shape[0], nts_dig, replace=False)\n",
    "let_tr_indices=np.random.choice(Xtr_let_rem.shape[0], ntr_let, replace=False)\n",
    "let_ts_indices=np.random.choice(Xts_let_rem.shape[0], nts_let, replace=False)\n",
    "\n",
    "# Create sub-sampled training and test data\n",
    "Xtr1_dig, ytr1_dig = Xtr_dig[dig_tr_indices,:], ytr_dig[dig_tr_indices]\n",
    "Xts1_dig, yts1_dig = Xts_dig[dig_ts_indices,:], yts_dig[dig_ts_indices]\n",
    "Xtr1_let, ytr1_let = Xtr_let_rem[let_tr_indices,:], ytr_let_rem[let_tr_indices]\n",
    "Xts1_let, yts1_let = Xts_let_rem[let_ts_indices,:], yts_let_rem[let_ts_indices]"
   ]
  },
  {
   "cell_type": "markdown",
   "metadata": {},
   "source": [
    "Next, create data by combining the digit and letter arrays.\n",
    "* Create an array Xtr by stacking Xtr1_dig , Xtr1_let . This should result in 6000 total samples\n",
    "* Create a new label vector ytr where ytr[i] = ytr1_dig[i] for any digit sample and ytr[i]=10 for any letter sample. Thus, all the letters are lumped into a single class with label 11\n",
    "* Create test arrays Xts and yts similarly"
   ]
  },
  {
   "cell_type": "code",
   "execution_count": 15,
   "metadata": {},
   "outputs": [],
   "source": [
    "#Create combined letter and digit training and test data\n",
    "Xtr= np.vstack((Xtr1_dig, Xtr1_let)) #np.hstack((ytr1_let, ytr1_dig))\n",
    "Xts= np.vstack((Xts1_dig, Xts1_let)) #np.hstack((yts1_let, yts1_dig))\n",
    "val=[10]\n",
    "ytr_let_tens=val*(len(ytr1_let))\n",
    "yts_let_tens=val*(len(yts1_let))\n",
    "ytr=np.hstack((ytr1_dig,ytr_let_tens))\n",
    "yts=np.hstack((yts1_dig,yts_let_tens))"
   ]
  },
  {
   "cell_type": "markdown",
   "metadata": {},
   "source": [
    "The training data above takes values from 0 to 255. Rescale the data from -1 to 1. This will get slightly better performance on the SVM"
   ]
  },
  {
   "cell_type": "code",
   "execution_count": 16,
   "metadata": {},
   "outputs": [],
   "source": [
    "# Rescale the data from -1 to 1\n",
    "Xtr1 = Xtr/255.0*2 - 1\n",
    "Xts1 = Xts/255.0*2 - 1"
   ]
  },
  {
   "cell_type": "markdown",
   "metadata": {},
   "source": [
    "#### Run the SVM classifier"
   ]
  },
  {
   "cell_type": "code",
   "execution_count": 17,
   "metadata": {},
   "outputs": [
    {
     "name": "stdout",
     "output_type": "stream",
     "text": [
      "[LibSVM]Data Accuaracy = 90.7167\n"
     ]
    }
   ],
   "source": [
    "from sklearn import svm\n",
    "# Create a classifier: a support vector classifier\n",
    "svc = svm.SVC(probability=False, kernel=\"rbf\", C=2.8, gamma=.0073, verbose=10)\n",
    "#Fit the classifier on the training data.\n",
    "svc.fit(Xtr1, ytr)\n",
    "#Measure error on the test data\n",
    "yhat=svc.predict(Xts1)\n",
    "acc=np.mean(yhat== yts)\n",
    "print(f'Data Accuaracy = {np.around(acc*100,4)}')"
   ]
  },
  {
   "cell_type": "code",
   "execution_count": 19,
   "metadata": {},
   "outputs": [
    {
     "name": "stdout",
     "output_type": "stream",
     "text": [
      "[[0.9507874  0.         0.         0.         0.         0.00387597\n",
      "  0.00396825 0.         0.         0.         0.021     ]\n",
      " [0.         0.984375   0.         0.         0.00205339 0.00193798\n",
      "  0.         0.         0.         0.         0.005     ]\n",
      " [0.00393701 0.         0.88644689 0.00403226 0.         0.\n",
      "  0.         0.00988142 0.00207469 0.         0.052     ]\n",
      " [0.         0.         0.00549451 0.93145161 0.00205339 0.00968992\n",
      "  0.         0.00197628 0.01037344 0.00197239 0.018     ]\n",
      " [0.         0.         0.         0.         0.90554415 0.\n",
      "  0.         0.         0.         0.00394477 0.044     ]\n",
      " [0.00590551 0.         0.         0.01008065 0.         0.89147287\n",
      "  0.00396825 0.         0.         0.00197239 0.045     ]\n",
      " [0.         0.00446429 0.         0.         0.         0.00193798\n",
      "  0.93849206 0.         0.         0.         0.028     ]\n",
      " [0.         0.00446429 0.         0.         0.00205339 0.\n",
      "  0.         0.95454545 0.00207469 0.00986193 0.014     ]\n",
      " [0.0019685  0.         0.         0.00604839 0.00616016 0.00193798\n",
      "  0.00198413 0.         0.87344398 0.00394477 0.05      ]\n",
      " [0.00393701 0.00446429 0.         0.00201613 0.01026694 0.00193798\n",
      "  0.         0.01383399 0.00207469 0.92504931 0.019     ]\n",
      " [0.02559055 0.03571429 0.04578755 0.01612903 0.03285421 0.06395349\n",
      "  0.02579365 0.00592885 0.02697095 0.06706114 0.826     ]]\n"
     ]
    },
    {
     "data": {
      "text/plain": [
       "<matplotlib.colorbar.Colorbar at 0x7fd2d83117c0>"
      ]
     },
     "execution_count": 19,
     "metadata": {},
     "output_type": "execute_result"
    },
    {
     "data": {
      "image/png": "[encoded data removed]",
      "text/plain": [
       "<Figure size 432x288 with 2 Axes>"
      ]
     },
     "metadata": {
      "needs_background": "light"
     },
     "output_type": "display_data"
    }
   ],
   "source": [
    "# Print a confusion matrix\n",
    "from sklearn.metrics import confusion_matrix\n",
    "\n",
    "cm = confusion_matrix(yts,yhat)\n",
    "Csum = np.sum(cm,1)\n",
    "C = cm / Csum[None,:]\n",
    "print(C)\n",
    "plt.title('Confusion Matrix')\n",
    "plt.imshow(cm)\n",
    "plt.colorbar()"
   ]
  },
  {
   "cell_type": "code",
   "execution_count": 20,
   "metadata": {},
   "outputs": [
    {
     "name": "stdout",
     "output_type": "stream",
     "text": [
      "The fraction of digits that are mislabeled as letters = 0.277\n",
      "The fraction of letters that are mislabeled as digits = 0.2787225716641146\n"
     ]
    }
   ],
   "source": [
    "# Print the two error rates (misslabeled digits/letters)\n",
    "print(f'The fraction of digits that are mislabeled as letters = {np.sum(C[0:9,10])}')\n",
    "print(f'The fraction of letters that are mislabeled as digits = {np.sum(C[10,0:9])}')"
   ]
  },
  {
   "cell_type": "markdown",
   "metadata": {},
   "source": [
    "#### Selecting gamma and C via Cross-Validation\n",
    "\n",
    "In the above example we used a given gamma and C value. The selection of the parameters depend on\n",
    "the problem and decent performance of the SVM requires that you select these parameters carefully. The best way to select the parameters is via cross validation. Specifically, generally, one tries different values of gamma and C and selects the pair of values the lowest test error rate.\n",
    "In the code below, we will try to use 3 values for C and gamma as specified in the arrays C_test and gam_test . For\n",
    "each C and gamma in these arrays, fit a model on the training data and measure the accuracy on the test data. Then, print the C and gamma that result in the best accuracy.\n",
    "Normally, you would try a large number of values for each of the parameters, but an SVM is very slow to train -- even with this small data set. "
   ]
  },
  {
   "cell_type": "code",
   "execution_count": 22,
   "metadata": {},
   "outputs": [
    {
     "name": "stdout",
     "output_type": "stream",
     "text": [
      "[LibSVM][LibSVM][LibSVM][LibSVM][LibSVM][LibSVM][LibSVM][LibSVM][LibSVM][[0.77683333 0.58866667 0.16666667]\n",
      " [0.86133333 0.88183333 0.20616667]\n",
      " [0.895      0.888      0.21066667]]\n"
     ]
    }
   ],
   "source": [
    "C_test = [0.1,1,10]\n",
    "gam_test = [0.001,0.01,0.1]\n",
    "nC = len(C_test)\n",
    "ngam = len(gam_test)\n",
    "acc = np.zeros((nC,ngam))\n",
    "\n",
    "for i in range(nC):\n",
    "    for j in range(ngam):\n",
    "        svc = svm.SVC(probability=False, kernel=\"rbf\", C= C_test[i], gamma= gam_test[j],verbose=10)\n",
    "        svc.fit(Xtr1, ytr)\n",
    "        yhat = svc.predict(Xts1)\n",
    "        acc[i,j] = np.mean(yhat == yts)\n",
    "\n",
    "print(acc)"
   ]
  },
  {
   "cell_type": "code",
   "execution_count": 24,
   "metadata": {},
   "outputs": [
    {
     "name": "stdout",
     "output_type": "stream",
     "text": [
      "Maximum accuracy =0.895 , corresponding best C = 10, gamma = 0.001\n"
     ]
    },
    {
     "name": "stderr",
     "output_type": "stream",
     "text": [
      "<ipython-input-24-b164094d7dfa>:5: DeprecationWarning: np.asscalar(a) is deprecated since NumPy v1.16, use a.item() instead\n",
      "  imax, jmax=np.asscalar(idx_i),np.asscalar(idx_j)\n"
     ]
    }
   ],
   "source": [
    "# The maximum accuracy and the corresponding best C and gamma\n",
    "\n",
    "acc_max=acc.max()\n",
    "idx_i, idx_j=np.where(acc == acc_max)\n",
    "imax, jmax=np.asscalar(idx_i),np.asscalar(idx_j)\n",
    "print(f'Maximum accuracy ={np.around(acc_max,4)} , corresponding best C = {C_test[imax]}, gamma = {gam_test[jmax]}')"
   ]
  }
 ],
 "metadata": {
  "kernelspec": {
   "display_name": "Python 3",
   "language": "python",
   "name": "python3"
  },
  "language_info": {
   "codemirror_mode": {
    "name": "ipython",
    "version": 3
   },
   "file_extension": ".py",
   "mimetype": "text/x-python",
   "name": "python",
   "nbconvert_exporter": "python",
   "pygments_lexer": "ipython3",
   "version": "3.8.5"
  }
 },
 "nbformat": 4,
 "nbformat_minor": 4
}
